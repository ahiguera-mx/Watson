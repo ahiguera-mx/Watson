{
    "cells": [
        {
            "cell_type": "markdown",
            "metadata": {},
            "source": "<center>\n    <img src=\"https://gitlab.com/ibm/skills-network/courses/placeholder101/-/raw/master/labs/module%201/images/IDSNlogo.png\"  width=\"300\" alt=\"cognitiveclass.ai logo\"  />\n</center>\n\n<h1 align=center><font size = 5>Assignment: SQL Notebook for Peer Assignment</font></h1>\n\nEstimated time needed: **60** minutes.\n\n## Introduction\n\nUsing this Python notebook you will:\n\n1.  Understand the Spacex DataSet\n2.  Load the dataset  into the corresponding table in a Db2 database\n3.  Execute SQL queries to answer assignment questions\n"
        },
        {
            "cell_type": "markdown",
            "metadata": {},
            "source": "## Overview of the DataSet\n\nSpaceX has gained worldwide attention for a series of historic milestones.\n\nIt is the only private company ever to return a spacecraft from low-earth orbit, which it first accomplished in December 2010.\nSpaceX advertises Falcon 9 rocket launches on its website with a cost of 62 million dollars wheras other providers cost upward of 165 million dollars each, much of the savings is because Space X can reuse the first stage.\n\nTherefore if we can determine if the first stage will land, we can determine the cost of a launch.\n\nThis information can be used if an alternate company wants to bid against SpaceX for a rocket launch.\n\nThis dataset includes a record for each payload carried during a SpaceX mission into outer space.\n"
        },
        {
            "cell_type": "markdown",
            "metadata": {},
            "source": "### Download the datasets\n\nThis assignment requires you to load the spacex dataset.\n\nIn many cases the dataset to be analyzed is available as a .CSV (comma separated values) file, perhaps on the internet. Click on the link below to download and save the dataset (.CSV file):\n\n<a href=\"https://cf-courses-data.s3.us.cloud-object-storage.appdomain.cloud/IBM-DS0321EN-SkillsNetwork/labs/module_2/data/Spacex.csv?utm_medium=Exinfluencer&utm_source=Exinfluencer&utm_content=000026UJ&utm_term=10006555&utm_id=NA-SkillsNetwork-Channel-SkillsNetworkCoursesIBMDS0321ENSkillsNetwork26802033-2021-01-01\" target=\"_blank\">Spacex DataSet</a>\n"
        },
        {
            "cell_type": "markdown",
            "metadata": {},
            "source": "### Store the dataset in database table\n\n**it is highly recommended to manually load the table using the database console LOAD tool in DB2**.\n\n<img src = \"https://cf-courses-data.s3.us.cloud-object-storage.appdomain.cloud/IBM-DS0321EN-SkillsNetwork/labs/module_2/images/spacexload.png\">\n\nNow open the Db2 console, open the LOAD tool, Select / Drag the .CSV file for the  dataset, Next create a New Table, and then follow the steps on-screen instructions to load the data. Name the new table as follows:\n\n**SPACEXDATASET**\n\n**Follow these steps while using old DB2 UI which is having Open Console Screen**\n\n**Note:While loading Spacex dataset, ensure that detect datatypes is disabled. Later click on the pencil icon(edit option).**\n\n1.  Change the Date Format by manually typing DD-MM-YYYY and timestamp format as DD-MM-YYYY HH\\:MM:SS\n\n2.  Change the PAYLOAD_MASS\\_\\_KG\\_  datatype  to INTEGER.\n\n<img src = \"https://cf-courses-data.s3.us.cloud-object-storage.appdomain.cloud/IBM-DS0321EN-SkillsNetwork/labs/module_2/images/spacexload2.png\">\n"
        },
        {
            "cell_type": "markdown",
            "metadata": {},
            "source": "**Changes to be considered when having DB2 instance with the new UI having Go to UI screen**\n\n*   Refer to this insruction in this <a href=\"https://cf-courses-data.s3.us.cloud-object-storage.appdomain.cloud/IBMDeveloperSkillsNetwork-DB0201EN-SkillsNetwork/labs/Labs_Coursera_V5/labs/Lab%20-%20Sign%20up%20for%20IBM%20Cloud%20-%20Create%20Db2%20service%20instance%20-%20Get%20started%20with%20the%20Db2%20console/instructional-labs.md.html?utm_medium=Exinfluencer&utm_source=Exinfluencer&utm_content=000026UJ&utm_term=10006555&utm_id=NA-SkillsNetwork-Channel-SkillsNetworkCoursesIBMDS0321ENSkillsNetwork26802033-2021-01-01\">link</a> for viewing  the new  Go to UI screen.\n\n*   Later click on **Data link(below SQL)**  in the Go to UI screen  and click on **Load Data** tab.\n\n*   Later browse for the downloaded spacex file.\n\n<img src=\"https://cf-courses-data.s3.us.cloud-object-storage.appdomain.cloud/IBM-DS0321EN-SkillsNetwork/labs/module_2/images/browsefile.png\" width=\"800\"/>\n\n*   Once done select the schema andload the file.\n\n <img src=\"https://cf-courses-data.s3.us.cloud-object-storage.appdomain.cloud/IBM-DS0321EN-SkillsNetwork/labs/module_2/images/spacexload3.png\" width=\"800\"/>\n"
        },
        {
            "cell_type": "code",
            "execution_count": 2,
            "metadata": {},
            "outputs": [
                {
                    "name": "stdout",
                    "output_type": "stream",
                    "text": "Collecting sqlalchemy==1.3.9\n  Downloading SQLAlchemy-1.3.9.tar.gz (6.0 MB)\n\u001b[K     |\u2588\u2588\u2588\u2588\u2588\u2588\u2588\u2588\u2588\u2588\u2588\u2588\u2588\u2588\u2588\u2588\u2588\u2588\u2588\u2588\u2588\u2588\u2588\u2588\u2588\u2588\u2588\u2588\u2588\u2588\u2588\u2588| 6.0 MB 12.6 MB/s eta 0:00:01\n\u001b[?25hBuilding wheels for collected packages: sqlalchemy\n  Building wheel for sqlalchemy (setup.py) ... \u001b[?25ldone\n\u001b[?25h  Created wheel for sqlalchemy: filename=SQLAlchemy-1.3.9-cp38-cp38-linux_x86_64.whl size=1209506 sha256=442adcfaeab27730fe44222a7b366703b8afab1480188cc9faf04db3cfd75673\n  Stored in directory: /tmp/wsuser/.cache/pip/wheels/cb/43/46/fa638f2422554332b7865d600275b24568bf60e76104a94bb4\nSuccessfully built sqlalchemy\nInstalling collected packages: sqlalchemy\n  Attempting uninstall: sqlalchemy\n    Found existing installation: SQLAlchemy 1.3.23\n    Uninstalling SQLAlchemy-1.3.23:\n      Successfully uninstalled SQLAlchemy-1.3.23\nSuccessfully installed sqlalchemy-1.3.9\nRequirement already satisfied: ibm_db_sa in /opt/conda/envs/Python-3.8-main/lib/python3.8/site-packages (0.3.6)\nRequirement already satisfied: ibm-db>=2.0.0 in /opt/conda/envs/Python-3.8-main/lib/python3.8/site-packages (from ibm_db_sa) (3.0.4)\nRequirement already satisfied: sqlalchemy>=0.7.3 in /opt/conda/envs/Python-3.8-main/lib/python3.8/site-packages (from ibm_db_sa) (1.3.9)\nCollecting ipython-sql\n  Downloading ipython_sql-0.4.0-py3-none-any.whl (19 kB)\nRequirement already satisfied: ipython-genutils>=0.1.0 in /opt/conda/envs/Python-3.8-main/lib/python3.8/site-packages (from ipython-sql) (0.2.0)\nCollecting sqlparse\n  Downloading sqlparse-0.4.1-py3-none-any.whl (42 kB)\n\u001b[K     |\u2588\u2588\u2588\u2588\u2588\u2588\u2588\u2588\u2588\u2588\u2588\u2588\u2588\u2588\u2588\u2588\u2588\u2588\u2588\u2588\u2588\u2588\u2588\u2588\u2588\u2588\u2588\u2588\u2588\u2588\u2588\u2588| 42 kB 2.0 MB/s  eta 0:00:01\n\u001b[?25hRequirement already satisfied: ipython>=1.0 in /opt/conda/envs/Python-3.8-main/lib/python3.8/site-packages (from ipython-sql) (7.22.0)\nCollecting prettytable<1\n  Downloading prettytable-0.7.2.zip (28 kB)\nRequirement already satisfied: sqlalchemy>=0.6.7 in /opt/conda/envs/Python-3.8-main/lib/python3.8/site-packages (from ipython-sql) (1.3.9)\nRequirement already satisfied: six in /opt/conda/envs/Python-3.8-main/lib/python3.8/site-packages (from ipython-sql) (1.15.0)\nRequirement already satisfied: pickleshare in /opt/conda/envs/Python-3.8-main/lib/python3.8/site-packages (from ipython>=1.0->ipython-sql) (0.7.5)\nRequirement already satisfied: backcall in /opt/conda/envs/Python-3.8-main/lib/python3.8/site-packages (from ipython>=1.0->ipython-sql) (0.2.0)\nRequirement already satisfied: decorator in /opt/conda/envs/Python-3.8-main/lib/python3.8/site-packages (from ipython>=1.0->ipython-sql) (5.0.9)\nRequirement already satisfied: pygments in /opt/conda/envs/Python-3.8-main/lib/python3.8/site-packages (from ipython>=1.0->ipython-sql) (2.9.0)\nRequirement already satisfied: jedi>=0.16 in /opt/conda/envs/Python-3.8-main/lib/python3.8/site-packages (from ipython>=1.0->ipython-sql) (0.17.2)\nRequirement already satisfied: setuptools>=18.5 in /opt/conda/envs/Python-3.8-main/lib/python3.8/site-packages (from ipython>=1.0->ipython-sql) (52.0.0.post20210125)\nRequirement already satisfied: pexpect>4.3 in /opt/conda/envs/Python-3.8-main/lib/python3.8/site-packages (from ipython>=1.0->ipython-sql) (4.8.0)\nRequirement already satisfied: prompt-toolkit!=3.0.0,!=3.0.1,<3.1.0,>=2.0.0 in /opt/conda/envs/Python-3.8-main/lib/python3.8/site-packages (from ipython>=1.0->ipython-sql) (3.0.17)\nRequirement already satisfied: traitlets>=4.2 in /opt/conda/envs/Python-3.8-main/lib/python3.8/site-packages (from ipython>=1.0->ipython-sql) (5.0.5)\nRequirement already satisfied: parso<0.8.0,>=0.7.0 in /opt/conda/envs/Python-3.8-main/lib/python3.8/site-packages (from jedi>=0.16->ipython>=1.0->ipython-sql) (0.7.0)\nRequirement already satisfied: ptyprocess>=0.5 in /opt/conda/envs/Python-3.8-main/lib/python3.8/site-packages (from pexpect>4.3->ipython>=1.0->ipython-sql) (0.7.0)\nRequirement already satisfied: wcwidth in /opt/conda/envs/Python-3.8-main/lib/python3.8/site-packages (from prompt-toolkit!=3.0.0,!=3.0.1,<3.1.0,>=2.0.0->ipython>=1.0->ipython-sql) (0.2.5)\nBuilding wheels for collected packages: prettytable\n  Building wheel for prettytable (setup.py) ... \u001b[?25ldone\n\u001b[?25h  Created wheel for prettytable: filename=prettytable-0.7.2-py3-none-any.whl size=13700 sha256=06ec54bf14b430fa676ef175c495bb439b36f3cfc4127c5a77ea1973930e824b\n  Stored in directory: /tmp/wsuser/.cache/pip/wheels/48/6d/77/9517cb933af254f51a446f1a5ec9c2be3e45f17384940bce68\nSuccessfully built prettytable\nInstalling collected packages: sqlparse, prettytable, ipython-sql\nSuccessfully installed ipython-sql-0.4.0 prettytable-0.7.2 sqlparse-0.4.1\n"
                }
            ],
            "source": "!pip install sqlalchemy==1.3.9\n!pip install ibm_db_sa\n!pip install ipython-sql"
        },
        {
            "cell_type": "markdown",
            "metadata": {},
            "source": "### Connect to the database\n\nLet us first load the SQL extension and establish a connection with the database\n"
        },
        {
            "cell_type": "code",
            "execution_count": 4,
            "metadata": {},
            "outputs": [
                {
                    "name": "stdout",
                    "output_type": "stream",
                    "text": "The sql extension is already loaded. To reload it, use:\n  %reload_ext sql\n"
                }
            ],
            "source": "%load_ext sql"
        },
        {
            "cell_type": "markdown",
            "metadata": {},
            "source": "**DB2 magic in case of old UI service credentials.**\n\nIn the next cell enter your db2 connection string. Recall you created Service Credentials for your Db2 instance before. From the **uri** field of your Db2 service credentials copy everything after db2:// (except the double quote at the end) and paste it in the cell below after ibm_db_sa://\n\n<img src =\"https://cf-courses-data.s3.us.cloud-object-storage.appdomain.cloud/IBMDeveloperSkillsNetwork-DB0201EN-SkillsNetwork/labs/FinalModule_edX/images/URI.jpg\">\n\nin the following format\n\n**%sql ibm_db_sa://my-username:my-password\\@my-hostname:my-port/my-db-name**\n\n**DB2 magic in case of new UI service credentials.**\n\n<img src =\"https://cf-courses-data.s3.us.cloud-object-storage.appdomain.cloud/IBM-DS0321EN-SkillsNetwork/labs/module_2/images/servicecredentials.png\" width=600>  \n\n*   Use the following format.\n\n*   Add security=SSL at the end\n\n**%sql ibm_db_sa://my-username:my-password\\@my-hostname:my-port/my-db-name?security=SSL**\n"
        },
        {
            "cell_type": "code",
            "execution_count": 5,
            "metadata": {
                "scrolled": true
            },
            "outputs": [
                {
                    "name": "stdout",
                    "output_type": "stream",
                    "text": "DB2/LINUXX8664\n"
                }
            ],
            "source": "%sql ibm_db_sa://bmr11134:rPDGvrJRl8X4i2CM@ba99a9e6-d59e-4883-8fc0-d6a8c9f7a08f.c1ogj3sd0tgtu0lqde00.databases.appdomain.cloud:31321/BLUDB?security=SSL"
        },
        {
            "cell_type": "code",
            "execution_count": 5,
            "metadata": {},
            "outputs": [],
            "source": "import ibm_db\nimport ibm_db_dbi\nimport pandas"
        },
        {
            "cell_type": "code",
            "execution_count": 6,
            "metadata": {},
            "outputs": [],
            "source": "#Replace the placeholder values with the actuals for your Db2 Service Credentials\ndsn_driver = \"{IBM DB2 ODBC DRIVER}\"\ndsn_database = \"bludb\"            # e.g. \"BLUDB\"\ndsn_hostname = \"ba99a9e6-d59e-4883-8fc0-d6a8c9f7a08f.c1ogj3sd0tgtu0lqde00.databases.appdomain.cloud\"            # e.g.: \"dashdb-txn-sbox-yp-dal09-04.services.dal.bluemix.net\"\ndsn_port = \"31321\"                    # e.g. \"50000\" \ndsn_protocol = \"TCPIP\"            # i.e. \"TCPIP\"\ndsn_uid = \"bmr11134\"                 # e.g. \"abc12345\"\ndsn_pwd = \"rPDGvrJRl8X4i2CM\"                 # e.g. \"7dBZ3wWt9XN6$o0J\"\ndsn_security = \"SSL\"              #i.e. \"SSL\""
        },
        {
            "cell_type": "code",
            "execution_count": 7,
            "metadata": {},
            "outputs": [
                {
                    "name": "stdout",
                    "output_type": "stream",
                    "text": "Connected to database:  bludb as user:  bmr11134 on host:  ba99a9e6-d59e-4883-8fc0-d6a8c9f7a08f.c1ogj3sd0tgtu0lqde00.databases.appdomain.cloud\n"
                }
            ],
            "source": "#Create database connection\n#DO NOT MODIFY THIS CELL. Just RUN it with Shift + Enter\ndsn = (\n    \"DRIVER={0};\"\n    \"DATABASE={1};\"\n    \"HOSTNAME={2};\"\n    \"PORT={3};\"\n    \"PROTOCOL={4};\"\n    \"UID={5};\"\n    \"PWD={6};\"\n    \"SECURITY={7};\").format(dsn_driver, dsn_database, dsn_hostname, dsn_port, dsn_protocol, dsn_uid, dsn_pwd,dsn_security)\n\ntry:\n    conn = ibm_db.connect(dsn, \"\", \"\")\n    print (\"Connected to database: \", dsn_database, \"as user: \", dsn_uid, \"on host: \", dsn_hostname)\n\nexcept:\n    print (\"Unable to connect: \", ibm_db.conn_errormsg() )\n\n"
        },
        {
            "cell_type": "code",
            "execution_count": 8,
            "metadata": {},
            "outputs": [],
            "source": "pconn = ibm_db_dbi.Connection(conn)"
        },
        {
            "cell_type": "code",
            "execution_count": 23,
            "metadata": {},
            "outputs": [
                {
                    "name": "stdout",
                    "output_type": "stream",
                    "text": " * ibm_db_sa://bmr11134:***@ba99a9e6-d59e-4883-8fc0-d6a8c9f7a08f.c1ogj3sd0tgtu0lqde00.databases.appdomain.cloud:31321/BLUDB\n(ibm_db_dbi.ProgrammingError) ibm_db_dbi::ProgrammingError: Statement Execute Failed: [IBM][CLI Driver][DB2/LINUXX8664] SQL0104N  An unexpected token \"END-OF-STATEMENT\" was found following \"ct * from SPACEXTBL\"\".  Expected tokens may include:  \"JOIN <joined_table>\".  SQLSTATE=42601 SQLCODE=-104\n[SQL: \"select * from SPACEXTBL\"]\n(Background on this error at: http://sqlalche.me/e/f405)\n"
                }
            ],
            "source": "%sql \"select * from SPACEXTBL\""
        },
        {
            "cell_type": "code",
            "execution_count": 7,
            "metadata": {},
            "outputs": [
                {
                    "name": "stdout",
                    "output_type": "stream",
                    "text": " * ibm_db_sa://bmr11134:***@ba99a9e6-d59e-4883-8fc0-d6a8c9f7a08f.c1ogj3sd0tgtu0lqde00.databases.appdomain.cloud:31321/BLUDB\nDone.\n"
                },
                {
                    "data": {
                        "text/html": "<table>\n    <tr>\n        <th>launch_site</th>\n    </tr>\n    <tr>\n        <td>CCAFS LC-40</td>\n    </tr>\n    <tr>\n        <td>CCAFS SLC-40</td>\n    </tr>\n    <tr>\n        <td>KSC LC-39A</td>\n    </tr>\n    <tr>\n        <td>VAFB SLC-4E</td>\n    </tr>\n</table>",
                        "text/plain": "[('CCAFS LC-40',), ('CCAFS SLC-40',), ('KSC LC-39A',), ('VAFB SLC-4E',)]"
                    },
                    "execution_count": 7,
                    "metadata": {},
                    "output_type": "execute_result"
                }
            ],
            "source": "%sql SELECT DISTINCT LAUNCH_SITE FROM SPACEXTBL"
        },
        {
            "cell_type": "code",
            "execution_count": 14,
            "metadata": {},
            "outputs": [],
            "source": "df = pandas.read_sql(selectQuery, pconn)"
        },
        {
            "cell_type": "code",
            "execution_count": 15,
            "metadata": {},
            "outputs": [
                {
                    "data": {
                        "text/html": "<div>\n<style scoped>\n    .dataframe tbody tr th:only-of-type {\n        vertical-align: middle;\n    }\n\n    .dataframe tbody tr th {\n        vertical-align: top;\n    }\n\n    .dataframe thead th {\n        text-align: right;\n    }\n</style>\n<table border=\"1\" class=\"dataframe\">\n  <thead>\n    <tr style=\"text-align: right;\">\n      <th></th>\n      <th>DATE</th>\n      <th>TIME__UTC_</th>\n      <th>BOOSTER_VERSION</th>\n      <th>LAUNCH_SITE</th>\n      <th>PAYLOAD</th>\n      <th>PAYLOAD_MASS__KG_</th>\n      <th>ORBIT</th>\n      <th>CUSTOMER</th>\n      <th>MISSION_OUTCOME</th>\n      <th>LANDING__OUTCOME</th>\n    </tr>\n  </thead>\n  <tbody>\n    <tr>\n      <th>0</th>\n      <td>2010-06-04</td>\n      <td>18:45:00</td>\n      <td>F9 v1.0  B0003</td>\n      <td>CCAFS LC-40</td>\n      <td>Dragon Spacecraft Qualification Unit</td>\n      <td>0</td>\n      <td>LEO</td>\n      <td>SpaceX</td>\n      <td>Success</td>\n      <td>Failure (parachute)</td>\n    </tr>\n    <tr>\n      <th>1</th>\n      <td>2010-12-08</td>\n      <td>15:43:00</td>\n      <td>F9 v1.0  B0004</td>\n      <td>CCAFS LC-40</td>\n      <td>Dragon demo flight C1, two CubeSats, barrel of...</td>\n      <td>0</td>\n      <td>LEO (ISS)</td>\n      <td>NASA (COTS) NRO</td>\n      <td>Success</td>\n      <td>Failure (parachute)</td>\n    </tr>\n    <tr>\n      <th>2</th>\n      <td>2012-05-22</td>\n      <td>07:44:00</td>\n      <td>F9 v1.0  B0005</td>\n      <td>CCAFS LC-40</td>\n      <td>Dragon demo flight C2</td>\n      <td>525</td>\n      <td>LEO (ISS)</td>\n      <td>NASA (COTS)</td>\n      <td>Success</td>\n      <td>No attempt</td>\n    </tr>\n    <tr>\n      <th>3</th>\n      <td>2012-10-08</td>\n      <td>00:35:00</td>\n      <td>F9 v1.0  B0006</td>\n      <td>CCAFS LC-40</td>\n      <td>SpaceX CRS-1</td>\n      <td>500</td>\n      <td>LEO (ISS)</td>\n      <td>NASA (CRS)</td>\n      <td>Success</td>\n      <td>No attempt</td>\n    </tr>\n    <tr>\n      <th>4</th>\n      <td>2013-03-01</td>\n      <td>15:10:00</td>\n      <td>F9 v1.0  B0007</td>\n      <td>CCAFS LC-40</td>\n      <td>SpaceX CRS-2</td>\n      <td>677</td>\n      <td>LEO (ISS)</td>\n      <td>NASA (CRS)</td>\n      <td>Success</td>\n      <td>No attempt</td>\n    </tr>\n    <tr>\n      <th>...</th>\n      <td>...</td>\n      <td>...</td>\n      <td>...</td>\n      <td>...</td>\n      <td>...</td>\n      <td>...</td>\n      <td>...</td>\n      <td>...</td>\n      <td>...</td>\n      <td>...</td>\n    </tr>\n    <tr>\n      <th>96</th>\n      <td>2020-11-05</td>\n      <td>23:24:23</td>\n      <td>F9 B5B1062.1</td>\n      <td>CCAFS SLC-40</td>\n      <td>GPS III-04 , Crew-1</td>\n      <td>4311</td>\n      <td>MEO</td>\n      <td>USSF</td>\n      <td>Success</td>\n      <td>Success</td>\n    </tr>\n    <tr>\n      <th>97</th>\n      <td>2020-11-16</td>\n      <td>00:27:00</td>\n      <td>F9 B5B1061.1</td>\n      <td>KSC LC-39A</td>\n      <td>Crew-1, Sentinel-6 Michael Freilich</td>\n      <td>12500</td>\n      <td>LEO (ISS)</td>\n      <td>NASA (CCP)</td>\n      <td>Success</td>\n      <td>Success</td>\n    </tr>\n    <tr>\n      <th>98</th>\n      <td>2020-11-21</td>\n      <td>17:17:08</td>\n      <td>F9 B5B1063.1</td>\n      <td>VAFB SLC-4E</td>\n      <td>Sentinel-6 Michael Freilich, Starlink 15 v1.0</td>\n      <td>1192</td>\n      <td>LEO</td>\n      <td>NASA / NOAA / ESA / EUMETSAT</td>\n      <td>Success</td>\n      <td>Success</td>\n    </tr>\n    <tr>\n      <th>99</th>\n      <td>2020-11-25</td>\n      <td>02:13:00</td>\n      <td>F9 B5 B1049.7</td>\n      <td>CCAFS SLC-40</td>\n      <td>Starlink 15 v1.0, SpaceX CRS-21</td>\n      <td>15600</td>\n      <td>LEO</td>\n      <td>SpaceX</td>\n      <td>Success</td>\n      <td>Success</td>\n    </tr>\n    <tr>\n      <th>100</th>\n      <td>2020-12-06</td>\n      <td>16:17:08</td>\n      <td>F9 B5 B1058.4</td>\n      <td>KSC LC-39A</td>\n      <td>SpaceX CRS-21</td>\n      <td>2972</td>\n      <td>LEO (ISS)</td>\n      <td>NASA (CRS)</td>\n      <td>Success</td>\n      <td>Success</td>\n    </tr>\n  </tbody>\n</table>\n<p>101 rows \u00d7 10 columns</p>\n</div>",
                        "text/plain": "           DATE TIME__UTC_ BOOSTER_VERSION   LAUNCH_SITE  \\\n0    2010-06-04   18:45:00  F9 v1.0  B0003   CCAFS LC-40   \n1    2010-12-08   15:43:00  F9 v1.0  B0004   CCAFS LC-40   \n2    2012-05-22   07:44:00  F9 v1.0  B0005   CCAFS LC-40   \n3    2012-10-08   00:35:00  F9 v1.0  B0006   CCAFS LC-40   \n4    2013-03-01   15:10:00  F9 v1.0  B0007   CCAFS LC-40   \n..          ...        ...             ...           ...   \n96   2020-11-05   23:24:23    F9 B5B1062.1  CCAFS SLC-40   \n97   2020-11-16   00:27:00    F9 B5B1061.1    KSC LC-39A   \n98   2020-11-21   17:17:08    F9 B5B1063.1   VAFB SLC-4E   \n99   2020-11-25   02:13:00   F9 B5 B1049.7  CCAFS SLC-40   \n100  2020-12-06   16:17:08   F9 B5 B1058.4    KSC LC-39A   \n\n                                               PAYLOAD  PAYLOAD_MASS__KG_  \\\n0                 Dragon Spacecraft Qualification Unit                  0   \n1    Dragon demo flight C1, two CubeSats, barrel of...                  0   \n2                                Dragon demo flight C2                525   \n3                                         SpaceX CRS-1                500   \n4                                         SpaceX CRS-2                677   \n..                                                 ...                ...   \n96                                 GPS III-04 , Crew-1               4311   \n97                Crew-1, Sentinel-6 Michael Freilich               12500   \n98      Sentinel-6 Michael Freilich, Starlink 15 v1.0                1192   \n99                     Starlink 15 v1.0, SpaceX CRS-21              15600   \n100                                      SpaceX CRS-21               2972   \n\n         ORBIT                      CUSTOMER MISSION_OUTCOME  \\\n0          LEO                        SpaceX         Success   \n1    LEO (ISS)               NASA (COTS) NRO         Success   \n2    LEO (ISS)                   NASA (COTS)         Success   \n3    LEO (ISS)                    NASA (CRS)         Success   \n4    LEO (ISS)                    NASA (CRS)         Success   \n..         ...                           ...             ...   \n96         MEO                          USSF         Success   \n97   LEO (ISS)                    NASA (CCP)         Success   \n98         LEO  NASA / NOAA / ESA / EUMETSAT         Success   \n99         LEO                        SpaceX         Success   \n100  LEO (ISS)                    NASA (CRS)         Success   \n\n        LANDING__OUTCOME  \n0    Failure (parachute)  \n1    Failure (parachute)  \n2             No attempt  \n3             No attempt  \n4             No attempt  \n..                   ...  \n96               Success  \n97               Success  \n98               Success  \n99               Success  \n100              Success  \n\n[101 rows x 10 columns]"
                    },
                    "execution_count": 15,
                    "metadata": {},
                    "output_type": "execute_result"
                }
            ],
            "source": "df"
        },
        {
            "cell_type": "markdown",
            "metadata": {},
            "source": "## Tasks\n\nNow write and execute SQL queries to solve the assignment tasks.\n\n### Task 1\n\n##### Display the names of the unique launch sites  in the space mission\n"
        },
        {
            "cell_type": "code",
            "execution_count": 8,
            "metadata": {},
            "outputs": [
                {
                    "name": "stdout",
                    "output_type": "stream",
                    "text": " * ibm_db_sa://bmr11134:***@ba99a9e6-d59e-4883-8fc0-d6a8c9f7a08f.c1ogj3sd0tgtu0lqde00.databases.appdomain.cloud:31321/BLUDB\nDone.\n"
                },
                {
                    "data": {
                        "text/html": "<table>\n    <tr>\n        <th>launch_site</th>\n    </tr>\n    <tr>\n        <td>CCAFS LC-40</td>\n    </tr>\n    <tr>\n        <td>CCAFS SLC-40</td>\n    </tr>\n    <tr>\n        <td>KSC LC-39A</td>\n    </tr>\n    <tr>\n        <td>VAFB SLC-4E</td>\n    </tr>\n</table>",
                        "text/plain": "[('CCAFS LC-40',), ('CCAFS SLC-40',), ('KSC LC-39A',), ('VAFB SLC-4E',)]"
                    },
                    "execution_count": 8,
                    "metadata": {},
                    "output_type": "execute_result"
                }
            ],
            "source": "%sql SELECT DISTINCT LAUNCH_SITE FROM SPACEXTBL"
        },
        {
            "cell_type": "markdown",
            "metadata": {},
            "source": "### Task 2\n\n##### Display 5 records where launch sites begin with the string 'CCA'\n"
        },
        {
            "cell_type": "code",
            "execution_count": 9,
            "metadata": {},
            "outputs": [
                {
                    "name": "stdout",
                    "output_type": "stream",
                    "text": " * ibm_db_sa://bmr11134:***@ba99a9e6-d59e-4883-8fc0-d6a8c9f7a08f.c1ogj3sd0tgtu0lqde00.databases.appdomain.cloud:31321/BLUDB\nDone.\n"
                },
                {
                    "data": {
                        "text/html": "<table>\n    <tr>\n        <th>DATE</th>\n        <th>time__utc_</th>\n        <th>booster_version</th>\n        <th>launch_site</th>\n        <th>payload</th>\n        <th>payload_mass__kg_</th>\n        <th>orbit</th>\n        <th>customer</th>\n        <th>mission_outcome</th>\n        <th>landing__outcome</th>\n    </tr>\n    <tr>\n        <td>2010-06-04</td>\n        <td>18:45:00</td>\n        <td>F9 v1.0  B0003</td>\n        <td>CCAFS LC-40</td>\n        <td>Dragon Spacecraft Qualification Unit</td>\n        <td>0</td>\n        <td>LEO</td>\n        <td>SpaceX</td>\n        <td>Success</td>\n        <td>Failure (parachute)</td>\n    </tr>\n    <tr>\n        <td>2010-12-08</td>\n        <td>15:43:00</td>\n        <td>F9 v1.0  B0004</td>\n        <td>CCAFS LC-40</td>\n        <td>Dragon demo flight C1, two CubeSats, barrel of Brouere cheese</td>\n        <td>0</td>\n        <td>LEO (ISS)</td>\n        <td>NASA (COTS) NRO</td>\n        <td>Success</td>\n        <td>Failure (parachute)</td>\n    </tr>\n    <tr>\n        <td>2012-05-22</td>\n        <td>07:44:00</td>\n        <td>F9 v1.0  B0005</td>\n        <td>CCAFS LC-40</td>\n        <td>Dragon demo flight C2</td>\n        <td>525</td>\n        <td>LEO (ISS)</td>\n        <td>NASA (COTS)</td>\n        <td>Success</td>\n        <td>No attempt</td>\n    </tr>\n    <tr>\n        <td>2012-10-08</td>\n        <td>00:35:00</td>\n        <td>F9 v1.0  B0006</td>\n        <td>CCAFS LC-40</td>\n        <td>SpaceX CRS-1</td>\n        <td>500</td>\n        <td>LEO (ISS)</td>\n        <td>NASA (CRS)</td>\n        <td>Success</td>\n        <td>No attempt</td>\n    </tr>\n    <tr>\n        <td>2013-03-01</td>\n        <td>15:10:00</td>\n        <td>F9 v1.0  B0007</td>\n        <td>CCAFS LC-40</td>\n        <td>SpaceX CRS-2</td>\n        <td>677</td>\n        <td>LEO (ISS)</td>\n        <td>NASA (CRS)</td>\n        <td>Success</td>\n        <td>No attempt</td>\n    </tr>\n</table>",
                        "text/plain": "[(datetime.date(2010, 6, 4), datetime.time(18, 45), 'F9 v1.0  B0003', 'CCAFS LC-40', 'Dragon Spacecraft Qualification Unit', 0, 'LEO', 'SpaceX', 'Success', 'Failure (parachute)'),\n (datetime.date(2010, 12, 8), datetime.time(15, 43), 'F9 v1.0  B0004', 'CCAFS LC-40', 'Dragon demo flight C1, two CubeSats, barrel of Brouere cheese', 0, 'LEO (ISS)', 'NASA (COTS) NRO', 'Success', 'Failure (parachute)'),\n (datetime.date(2012, 5, 22), datetime.time(7, 44), 'F9 v1.0  B0005', 'CCAFS LC-40', 'Dragon demo flight C2', 525, 'LEO (ISS)', 'NASA (COTS)', 'Success', 'No attempt'),\n (datetime.date(2012, 10, 8), datetime.time(0, 35), 'F9 v1.0  B0006', 'CCAFS LC-40', 'SpaceX CRS-1', 500, 'LEO (ISS)', 'NASA (CRS)', 'Success', 'No attempt'),\n (datetime.date(2013, 3, 1), datetime.time(15, 10), 'F9 v1.0  B0007', 'CCAFS LC-40', 'SpaceX CRS-2', 677, 'LEO (ISS)', 'NASA (CRS)', 'Success', 'No attempt')]"
                    },
                    "execution_count": 9,
                    "metadata": {},
                    "output_type": "execute_result"
                }
            ],
            "source": "%sql SELECT * FROM SPACEXTBL WHERE LAUNCH_SITE LIKE 'CCA%' limit 5"
        },
        {
            "cell_type": "markdown",
            "metadata": {},
            "source": "### Task 3\n\n##### Display the total payload mass carried by boosters launched by NASA (CRS)\n"
        },
        {
            "cell_type": "code",
            "execution_count": 10,
            "metadata": {},
            "outputs": [
                {
                    "name": "stdout",
                    "output_type": "stream",
                    "text": " * ibm_db_sa://bmr11134:***@ba99a9e6-d59e-4883-8fc0-d6a8c9f7a08f.c1ogj3sd0tgtu0lqde00.databases.appdomain.cloud:31321/BLUDB\nDone.\n"
                },
                {
                    "data": {
                        "text/html": "<table>\n    <tr>\n        <th>DATE</th>\n        <th>time__utc_</th>\n        <th>booster_version</th>\n        <th>launch_site</th>\n        <th>payload</th>\n        <th>payload_mass__kg_</th>\n        <th>orbit</th>\n        <th>customer</th>\n        <th>mission_outcome</th>\n        <th>landing__outcome</th>\n    </tr>\n    <tr>\n        <td>2012-10-08</td>\n        <td>00:35:00</td>\n        <td>F9 v1.0  B0006</td>\n        <td>CCAFS LC-40</td>\n        <td>SpaceX CRS-1</td>\n        <td>500</td>\n        <td>LEO (ISS)</td>\n        <td>NASA (CRS)</td>\n        <td>Success</td>\n        <td>No attempt</td>\n    </tr>\n    <tr>\n        <td>2013-03-01</td>\n        <td>15:10:00</td>\n        <td>F9 v1.0  B0007</td>\n        <td>CCAFS LC-40</td>\n        <td>SpaceX CRS-2</td>\n        <td>677</td>\n        <td>LEO (ISS)</td>\n        <td>NASA (CRS)</td>\n        <td>Success</td>\n        <td>No attempt</td>\n    </tr>\n    <tr>\n        <td>2014-04-18</td>\n        <td>19:25:00</td>\n        <td>F9 v1.1</td>\n        <td>CCAFS LC-40</td>\n        <td>SpaceX CRS-3</td>\n        <td>2296</td>\n        <td>LEO (ISS)</td>\n        <td>NASA (CRS)</td>\n        <td>Success</td>\n        <td>Controlled (ocean)</td>\n    </tr>\n    <tr>\n        <td>2014-09-21</td>\n        <td>05:52:00</td>\n        <td>F9 v1.1 B1010</td>\n        <td>CCAFS LC-40</td>\n        <td>SpaceX CRS-4</td>\n        <td>2216</td>\n        <td>LEO (ISS)</td>\n        <td>NASA (CRS)</td>\n        <td>Success</td>\n        <td>Uncontrolled (ocean)</td>\n    </tr>\n    <tr>\n        <td>2015-01-10</td>\n        <td>09:47:00</td>\n        <td>F9 v1.1 B1012</td>\n        <td>CCAFS LC-40</td>\n        <td>SpaceX CRS-5</td>\n        <td>2395</td>\n        <td>LEO (ISS)</td>\n        <td>NASA (CRS)</td>\n        <td>Success</td>\n        <td>Failure (drone ship)</td>\n    </tr>\n    <tr>\n        <td>2015-04-14</td>\n        <td>20:10:00</td>\n        <td>F9 v1.1 B1015</td>\n        <td>CCAFS LC-40</td>\n        <td>SpaceX CRS-6</td>\n        <td>1898</td>\n        <td>LEO (ISS)</td>\n        <td>NASA (CRS)</td>\n        <td>Success</td>\n        <td>Failure (drone ship)</td>\n    </tr>\n    <tr>\n        <td>2015-06-28</td>\n        <td>14:21:00</td>\n        <td>F9 v1.1 B1018</td>\n        <td>CCAFS LC-40</td>\n        <td>SpaceX CRS-7</td>\n        <td>1952</td>\n        <td>LEO (ISS)</td>\n        <td>NASA (CRS)</td>\n        <td>Failure (in flight)</td>\n        <td>Precluded (drone ship)</td>\n    </tr>\n    <tr>\n        <td>2016-04-08</td>\n        <td>20:43:00</td>\n        <td>F9 FT B1021.1</td>\n        <td>CCAFS LC-40</td>\n        <td>SpaceX CRS-8</td>\n        <td>3136</td>\n        <td>LEO (ISS)</td>\n        <td>NASA (CRS)</td>\n        <td>Success</td>\n        <td>Success (drone ship)</td>\n    </tr>\n    <tr>\n        <td>2016-07-18</td>\n        <td>04:45:00</td>\n        <td>F9 FT B1025.1</td>\n        <td>CCAFS LC-40</td>\n        <td>SpaceX CRS-9</td>\n        <td>2257</td>\n        <td>LEO (ISS)</td>\n        <td>NASA (CRS)</td>\n        <td>Success</td>\n        <td>Success (ground pad)</td>\n    </tr>\n    <tr>\n        <td>2017-02-19</td>\n        <td>14:39:00</td>\n        <td>F9 FT B1031.1</td>\n        <td>KSC LC-39A</td>\n        <td>SpaceX CRS-10</td>\n        <td>2490</td>\n        <td>LEO (ISS)</td>\n        <td>NASA (CRS)</td>\n        <td>Success</td>\n        <td>Success (ground pad)</td>\n    </tr>\n    <tr>\n        <td>2017-06-03</td>\n        <td>21:07:00</td>\n        <td>F9 FT B1035.1</td>\n        <td>KSC LC-39A</td>\n        <td>SpaceX CRS-11</td>\n        <td>2708</td>\n        <td>LEO (ISS)</td>\n        <td>NASA (CRS)</td>\n        <td>Success</td>\n        <td>Success (ground pad)</td>\n    </tr>\n    <tr>\n        <td>2017-08-14</td>\n        <td>16:31:00</td>\n        <td>F9 B4 B1039.1</td>\n        <td>KSC LC-39A</td>\n        <td>SpaceX CRS-12</td>\n        <td>3310</td>\n        <td>LEO (ISS)</td>\n        <td>NASA (CRS)</td>\n        <td>Success</td>\n        <td>Success (ground pad)</td>\n    </tr>\n    <tr>\n        <td>2017-12-15</td>\n        <td>15:36:00</td>\n        <td>F9 FT  B1035.2</td>\n        <td>CCAFS SLC-40</td>\n        <td>SpaceX CRS-13</td>\n        <td>2205</td>\n        <td>LEO (ISS)</td>\n        <td>NASA (CRS)</td>\n        <td>Success</td>\n        <td>Success (ground pad)</td>\n    </tr>\n    <tr>\n        <td>2018-04-02</td>\n        <td>20:30:00</td>\n        <td>F9 B4  B1039.2</td>\n        <td>CCAFS SLC-40</td>\n        <td>SpaceX CRS-14</td>\n        <td>2647</td>\n        <td>LEO (ISS)</td>\n        <td>NASA (CRS)</td>\n        <td>Success</td>\n        <td>No attempt</td>\n    </tr>\n    <tr>\n        <td>2018-06-29</td>\n        <td>09:42:00</td>\n        <td>F9 B4 B1045.2</td>\n        <td>CCAFS SLC-40</td>\n        <td>SpaceX CRS-15</td>\n        <td>2697</td>\n        <td>LEO (ISS)</td>\n        <td>NASA (CRS)</td>\n        <td>Success</td>\n        <td>No attempt</td>\n    </tr>\n    <tr>\n        <td>2018-12-05</td>\n        <td>18:16:00</td>\n        <td>F9 B5B1050</td>\n        <td>CCAFS SLC-40</td>\n        <td>SpaceX CRS-16</td>\n        <td>2500</td>\n        <td>LEO (ISS)</td>\n        <td>NASA (CRS)</td>\n        <td>Success</td>\n        <td>Failure</td>\n    </tr>\n    <tr>\n        <td>2019-05-04</td>\n        <td>06:48:00</td>\n        <td>F9 B5B1056.1</td>\n        <td>CCAFS SLC-40</td>\n        <td>SpaceX CRS-17, Starlink v0.9</td>\n        <td>2495</td>\n        <td>LEO (ISS)</td>\n        <td>NASA (CRS)</td>\n        <td>Success</td>\n        <td>Success</td>\n    </tr>\n    <tr>\n        <td>2019-07-25</td>\n        <td>22:01:00</td>\n        <td>F9 B5 B1056.2</td>\n        <td>CCAFS SLC-40</td>\n        <td>SpaceX CRS-18, AMOS-17 </td>\n        <td>2268</td>\n        <td>LEO (ISS)</td>\n        <td>NASA (CRS)</td>\n        <td>Success</td>\n        <td>Success</td>\n    </tr>\n    <tr>\n        <td>2020-03-07</td>\n        <td>04:50:00</td>\n        <td>F9 B5 B1059.2</td>\n        <td>CCAFS SLC-40</td>\n        <td>SpaceX CRS-20, Starlink 5 v1.0 </td>\n        <td>1977</td>\n        <td>LEO (ISS)</td>\n        <td>NASA (CRS)</td>\n        <td>Success</td>\n        <td>Success</td>\n    </tr>\n    <tr>\n        <td>2020-12-06</td>\n        <td>16:17:08</td>\n        <td>F9 B5 B1058.4</td>\n        <td>KSC LC-39A</td>\n        <td>SpaceX CRS-21</td>\n        <td>2972</td>\n        <td>LEO (ISS)</td>\n        <td>NASA (CRS)</td>\n        <td>Success</td>\n        <td>Success</td>\n    </tr>\n</table>",
                        "text/plain": "[(datetime.date(2012, 10, 8), datetime.time(0, 35), 'F9 v1.0  B0006', 'CCAFS LC-40', 'SpaceX CRS-1', 500, 'LEO (ISS)', 'NASA (CRS)', 'Success', 'No attempt'),\n (datetime.date(2013, 3, 1), datetime.time(15, 10), 'F9 v1.0  B0007', 'CCAFS LC-40', 'SpaceX CRS-2', 677, 'LEO (ISS)', 'NASA (CRS)', 'Success', 'No attempt'),\n (datetime.date(2014, 4, 18), datetime.time(19, 25), 'F9 v1.1', 'CCAFS LC-40', 'SpaceX CRS-3', 2296, 'LEO (ISS)', 'NASA (CRS)', 'Success', 'Controlled (ocean)'),\n (datetime.date(2014, 9, 21), datetime.time(5, 52), 'F9 v1.1 B1010', 'CCAFS LC-40', 'SpaceX CRS-4', 2216, 'LEO (ISS)', 'NASA (CRS)', 'Success', 'Uncontrolled (ocean)'),\n (datetime.date(2015, 1, 10), datetime.time(9, 47), 'F9 v1.1 B1012', 'CCAFS LC-40', 'SpaceX CRS-5', 2395, 'LEO (ISS)', 'NASA (CRS)', 'Success', 'Failure (drone ship)'),\n (datetime.date(2015, 4, 14), datetime.time(20, 10), 'F9 v1.1 B1015', 'CCAFS LC-40', 'SpaceX CRS-6', 1898, 'LEO (ISS)', 'NASA (CRS)', 'Success', 'Failure (drone ship)'),\n (datetime.date(2015, 6, 28), datetime.time(14, 21), 'F9 v1.1 B1018', 'CCAFS LC-40', 'SpaceX CRS-7', 1952, 'LEO (ISS)', 'NASA (CRS)', 'Failure (in flight)', 'Precluded (drone ship)'),\n (datetime.date(2016, 4, 8), datetime.time(20, 43), 'F9 FT B1021.1', 'CCAFS LC-40', 'SpaceX CRS-8', 3136, 'LEO (ISS)', 'NASA (CRS)', 'Success', 'Success (drone ship)'),\n (datetime.date(2016, 7, 18), datetime.time(4, 45), 'F9 FT B1025.1', 'CCAFS LC-40', 'SpaceX CRS-9', 2257, 'LEO (ISS)', 'NASA (CRS)', 'Success', 'Success (ground pad)'),\n (datetime.date(2017, 2, 19), datetime.time(14, 39), 'F9 FT B1031.1', 'KSC LC-39A', 'SpaceX CRS-10', 2490, 'LEO (ISS)', 'NASA (CRS)', 'Success', 'Success (ground pad)'),\n (datetime.date(2017, 6, 3), datetime.time(21, 7), 'F9 FT B1035.1', 'KSC LC-39A', 'SpaceX CRS-11', 2708, 'LEO (ISS)', 'NASA (CRS)', 'Success', 'Success (ground pad)'),\n (datetime.date(2017, 8, 14), datetime.time(16, 31), 'F9 B4 B1039.1', 'KSC LC-39A', 'SpaceX CRS-12', 3310, 'LEO (ISS)', 'NASA (CRS)', 'Success', 'Success (ground pad)'),\n (datetime.date(2017, 12, 15), datetime.time(15, 36), 'F9 FT  B1035.2', 'CCAFS SLC-40', 'SpaceX CRS-13', 2205, 'LEO (ISS)', 'NASA (CRS)', 'Success', 'Success (ground pad)'),\n (datetime.date(2018, 4, 2), datetime.time(20, 30), 'F9 B4  B1039.2', 'CCAFS SLC-40', 'SpaceX CRS-14', 2647, 'LEO (ISS)', 'NASA (CRS)', 'Success', 'No attempt'),\n (datetime.date(2018, 6, 29), datetime.time(9, 42), 'F9 B4 B1045.2', 'CCAFS SLC-40', 'SpaceX CRS-15', 2697, 'LEO (ISS)', 'NASA (CRS)', 'Success', 'No attempt'),\n (datetime.date(2018, 12, 5), datetime.time(18, 16), 'F9 B5B1050', 'CCAFS SLC-40', 'SpaceX CRS-16', 2500, 'LEO (ISS)', 'NASA (CRS)', 'Success', 'Failure'),\n (datetime.date(2019, 5, 4), datetime.time(6, 48), 'F9 B5B1056.1', 'CCAFS SLC-40', 'SpaceX CRS-17, Starlink v0.9', 2495, 'LEO (ISS)', 'NASA (CRS)', 'Success', 'Success'),\n (datetime.date(2019, 7, 25), datetime.time(22, 1), 'F9 B5 B1056.2', 'CCAFS SLC-40', 'SpaceX CRS-18, AMOS-17 ', 2268, 'LEO (ISS)', 'NASA (CRS)', 'Success', 'Success'),\n (datetime.date(2020, 3, 7), datetime.time(4, 50), 'F9 B5 B1059.2', 'CCAFS SLC-40', 'SpaceX CRS-20, Starlink 5 v1.0 ', 1977, 'LEO (ISS)', 'NASA (CRS)', 'Success', 'Success'),\n (datetime.date(2020, 12, 6), datetime.time(16, 17, 8), 'F9 B5 B1058.4', 'KSC LC-39A', 'SpaceX CRS-21', 2972, 'LEO (ISS)', 'NASA (CRS)', 'Success', 'Success')]"
                    },
                    "execution_count": 10,
                    "metadata": {},
                    "output_type": "execute_result"
                }
            ],
            "source": "%sql SELECT * FROM SPACEXTBL WHERE customer ='NASA (CRS)'"
        },
        {
            "cell_type": "code",
            "execution_count": 27,
            "metadata": {},
            "outputs": [
                {
                    "name": "stdout",
                    "output_type": "stream",
                    "text": " * ibm_db_sa://bmr11134:***@ba99a9e6-d59e-4883-8fc0-d6a8c9f7a08f.c1ogj3sd0tgtu0lqde00.databases.appdomain.cloud:31321/BLUDB\nDone.\n"
                },
                {
                    "data": {
                        "text/html": "<table>\n    <tr>\n        <th>1</th>\n    </tr>\n    <tr>\n        <td>45596</td>\n    </tr>\n</table>",
                        "text/plain": "[(45596,)]"
                    },
                    "execution_count": 27,
                    "metadata": {},
                    "output_type": "execute_result"
                }
            ],
            "source": "%sql select SUM(payload_mass__kg_) from SPACEXTBL WHERE customer ='NASA (CRS)'"
        },
        {
            "cell_type": "markdown",
            "metadata": {},
            "source": "### Task 4\n\n##### Display average payload mass carried by booster version F9 v1.1\n"
        },
        {
            "cell_type": "code",
            "execution_count": 30,
            "metadata": {},
            "outputs": [
                {
                    "name": "stdout",
                    "output_type": "stream",
                    "text": " * ibm_db_sa://bmr11134:***@ba99a9e6-d59e-4883-8fc0-d6a8c9f7a08f.c1ogj3sd0tgtu0lqde00.databases.appdomain.cloud:31321/BLUDB\nDone.\n"
                },
                {
                    "data": {
                        "text/html": "<table>\n    <tr>\n        <th>1</th>\n    </tr>\n    <tr>\n        <td>2928</td>\n    </tr>\n</table>",
                        "text/plain": "[(2928,)]"
                    },
                    "execution_count": 30,
                    "metadata": {},
                    "output_type": "execute_result"
                }
            ],
            "source": "%sql select AVG(payload_mass__kg_) from SPACEXTBL WHERE booster_version ='F9 v1.1'"
        },
        {
            "cell_type": "markdown",
            "metadata": {},
            "source": "### Task 5\n\n##### List the date when the first succesful landing outcome in ground pad was acheived.\n\n*Hint:Use min function*\n"
        },
        {
            "cell_type": "code",
            "execution_count": 35,
            "metadata": {},
            "outputs": [
                {
                    "name": "stdout",
                    "output_type": "stream",
                    "text": " * ibm_db_sa://bmr11134:***@ba99a9e6-d59e-4883-8fc0-d6a8c9f7a08f.c1ogj3sd0tgtu0lqde00.databases.appdomain.cloud:31321/BLUDB\nDone.\n"
                },
                {
                    "data": {
                        "text/html": "<table>\n    <tr>\n        <th>1</th>\n    </tr>\n    <tr>\n        <td>2015-12-22</td>\n    </tr>\n</table>",
                        "text/plain": "[(datetime.date(2015, 12, 22),)]"
                    },
                    "execution_count": 35,
                    "metadata": {},
                    "output_type": "execute_result"
                }
            ],
            "source": "%sql select MIN(Date) from SPACEXTBL WHERE landing__outcome ='Success (ground pad)'"
        },
        {
            "cell_type": "markdown",
            "metadata": {},
            "source": "### Task 6\n\n##### List the names of the boosters which have success in drone ship and have payload mass greater than 4000 but less than 6000\n"
        },
        {
            "cell_type": "code",
            "execution_count": 41,
            "metadata": {},
            "outputs": [
                {
                    "name": "stdout",
                    "output_type": "stream",
                    "text": " * ibm_db_sa://bmr11134:***@ba99a9e6-d59e-4883-8fc0-d6a8c9f7a08f.c1ogj3sd0tgtu0lqde00.databases.appdomain.cloud:31321/BLUDB\nDone.\n"
                },
                {
                    "data": {
                        "text/html": "<table>\n    <tr>\n        <th>booster_version</th>\n    </tr>\n    <tr>\n        <td>F9 FT B1022</td>\n    </tr>\n    <tr>\n        <td>F9 FT B1026</td>\n    </tr>\n    <tr>\n        <td>F9 FT  B1021.2</td>\n    </tr>\n    <tr>\n        <td>F9 FT  B1031.2</td>\n    </tr>\n</table>",
                        "text/plain": "[('F9 FT B1022',), ('F9 FT B1026',), ('F9 FT  B1021.2',), ('F9 FT  B1031.2',)]"
                    },
                    "execution_count": 41,
                    "metadata": {},
                    "output_type": "execute_result"
                }
            ],
            "source": "%sql select booster_version from SPACEXTBL WHERE (landing__outcome ='Success (drone ship)' and  payload_mass__kg_  between 4000 and 6000)"
        },
        {
            "cell_type": "markdown",
            "metadata": {},
            "source": "### Task 7\n\n##### List the total number of successful and failure mission outcomes\n"
        },
        {
            "cell_type": "code",
            "execution_count": 45,
            "metadata": {},
            "outputs": [
                {
                    "name": "stdout",
                    "output_type": "stream",
                    "text": " * ibm_db_sa://bmr11134:***@ba99a9e6-d59e-4883-8fc0-d6a8c9f7a08f.c1ogj3sd0tgtu0lqde00.databases.appdomain.cloud:31321/BLUDB\nDone.\n"
                },
                {
                    "data": {
                        "text/html": "<table>\n    <tr>\n        <th>1</th>\n    </tr>\n    <tr>\n        <td>99</td>\n    </tr>\n</table>",
                        "text/plain": "[(99,)]"
                    },
                    "execution_count": 45,
                    "metadata": {},
                    "output_type": "execute_result"
                }
            ],
            "source": "%sql select count(mission_outcome) from SPACEXTBL WHERE mission_outcome ='Success' "
        },
        {
            "cell_type": "code",
            "execution_count": 46,
            "metadata": {},
            "outputs": [
                {
                    "name": "stdout",
                    "output_type": "stream",
                    "text": " * ibm_db_sa://bmr11134:***@ba99a9e6-d59e-4883-8fc0-d6a8c9f7a08f.c1ogj3sd0tgtu0lqde00.databases.appdomain.cloud:31321/BLUDB\nDone.\n"
                },
                {
                    "data": {
                        "text/html": "<table>\n    <tr>\n        <th>1</th>\n    </tr>\n    <tr>\n        <td>2</td>\n    </tr>\n</table>",
                        "text/plain": "[(2,)]"
                    },
                    "execution_count": 46,
                    "metadata": {},
                    "output_type": "execute_result"
                }
            ],
            "source": "%sql select count(mission_outcome) from SPACEXTBL WHERE mission_outcome !='Success' "
        },
        {
            "cell_type": "markdown",
            "metadata": {},
            "source": "### Task 8\n\n##### List the   names of the booster_versions which have carried the maximum payload mass. Use a subquery\n"
        },
        {
            "cell_type": "code",
            "execution_count": 74,
            "metadata": {},
            "outputs": [
                {
                    "name": "stdout",
                    "output_type": "stream",
                    "text": " * ibm_db_sa://bmr11134:***@ba99a9e6-d59e-4883-8fc0-d6a8c9f7a08f.c1ogj3sd0tgtu0lqde00.databases.appdomain.cloud:31321/BLUDB\nDone.\n"
                },
                {
                    "data": {
                        "text/html": "<table>\n    <tr>\n        <th>1</th>\n    </tr>\n    <tr>\n        <td>15600</td>\n    </tr>\n</table>",
                        "text/plain": "[(15600,)]"
                    },
                    "execution_count": 74,
                    "metadata": {},
                    "output_type": "execute_result"
                }
            ],
            "source": "%sql select max(payload_mass__kg_) from SPACEXTBL"
        },
        {
            "cell_type": "code",
            "execution_count": 62,
            "metadata": {},
            "outputs": [
                {
                    "name": "stdout",
                    "output_type": "stream",
                    "text": " * ibm_db_sa://bmr11134:***@ba99a9e6-d59e-4883-8fc0-d6a8c9f7a08f.c1ogj3sd0tgtu0lqde00.databases.appdomain.cloud:31321/BLUDB\nDone.\n"
                },
                {
                    "data": {
                        "text/html": "<table>\n    <tr>\n        <th>booster_version</th>\n    </tr>\n    <tr>\n        <td>F9 B5 B1048.4</td>\n    </tr>\n    <tr>\n        <td>F9 B5 B1049.4</td>\n    </tr>\n    <tr>\n        <td>F9 B5 B1051.3</td>\n    </tr>\n    <tr>\n        <td>F9 B5 B1056.4</td>\n    </tr>\n    <tr>\n        <td>F9 B5 B1048.5</td>\n    </tr>\n    <tr>\n        <td>F9 B5 B1051.4</td>\n    </tr>\n    <tr>\n        <td>F9 B5 B1049.5</td>\n    </tr>\n    <tr>\n        <td>F9 B5 B1060.2</td>\n    </tr>\n    <tr>\n        <td>F9 B5 B1058.3</td>\n    </tr>\n    <tr>\n        <td>F9 B5 B1051.6</td>\n    </tr>\n    <tr>\n        <td>F9 B5 B1060.3</td>\n    </tr>\n    <tr>\n        <td>F9 B5 B1049.7</td>\n    </tr>\n</table>",
                        "text/plain": "[('F9 B5 B1048.4',),\n ('F9 B5 B1049.4',),\n ('F9 B5 B1051.3',),\n ('F9 B5 B1056.4',),\n ('F9 B5 B1048.5',),\n ('F9 B5 B1051.4',),\n ('F9 B5 B1049.5',),\n ('F9 B5 B1060.2',),\n ('F9 B5 B1058.3',),\n ('F9 B5 B1051.6',),\n ('F9 B5 B1060.3',),\n ('F9 B5 B1049.7',)]"
                    },
                    "execution_count": 62,
                    "metadata": {},
                    "output_type": "execute_result"
                }
            ],
            "source": "%sql select booster_version from SPACEXTBL where payload_mass__kg_=15600"
        },
        {
            "cell_type": "markdown",
            "metadata": {},
            "source": "### Task 9\n\n##### List the failed landing_outcomes in drone ship, their booster versions, and launch site names for the in year 2015\n"
        },
        {
            "cell_type": "code",
            "execution_count": 72,
            "metadata": {},
            "outputs": [
                {
                    "name": "stdout",
                    "output_type": "stream",
                    "text": " * ibm_db_sa://bmr11134:***@ba99a9e6-d59e-4883-8fc0-d6a8c9f7a08f.c1ogj3sd0tgtu0lqde00.databases.appdomain.cloud:31321/BLUDB\nDone.\n"
                },
                {
                    "data": {
                        "text/html": "<table>\n    <tr>\n        <th>DATE</th>\n        <th>landing__outcome</th>\n        <th>booster_version</th>\n        <th>launch_site</th>\n    </tr>\n    <tr>\n        <td>2015-01-10</td>\n        <td>Failure (drone ship)</td>\n        <td>F9 v1.1 B1012</td>\n        <td>CCAFS LC-40</td>\n    </tr>\n    <tr>\n        <td>2015-02-11</td>\n        <td>Controlled (ocean)</td>\n        <td>F9 v1.1 B1013</td>\n        <td>CCAFS LC-40</td>\n    </tr>\n    <tr>\n        <td>2015-03-02</td>\n        <td>No attempt</td>\n        <td>F9 v1.1 B1014</td>\n        <td>CCAFS LC-40</td>\n    </tr>\n    <tr>\n        <td>2015-04-14</td>\n        <td>Failure (drone ship)</td>\n        <td>F9 v1.1 B1015</td>\n        <td>CCAFS LC-40</td>\n    </tr>\n    <tr>\n        <td>2015-04-27</td>\n        <td>No attempt</td>\n        <td>F9 v1.1 B1016</td>\n        <td>CCAFS LC-40</td>\n    </tr>\n    <tr>\n        <td>2015-06-28</td>\n        <td>Precluded (drone ship)</td>\n        <td>F9 v1.1 B1018</td>\n        <td>CCAFS LC-40</td>\n    </tr>\n    <tr>\n        <td>2015-12-22</td>\n        <td>Success (ground pad)</td>\n        <td>F9 FT B1019</td>\n        <td>CCAFS LC-40</td>\n    </tr>\n</table>",
                        "text/plain": "[(datetime.date(2015, 1, 10), 'Failure (drone ship)', 'F9 v1.1 B1012', 'CCAFS LC-40'),\n (datetime.date(2015, 2, 11), 'Controlled (ocean)', 'F9 v1.1 B1013', 'CCAFS LC-40'),\n (datetime.date(2015, 3, 2), 'No attempt', 'F9 v1.1 B1014', 'CCAFS LC-40'),\n (datetime.date(2015, 4, 14), 'Failure (drone ship)', 'F9 v1.1 B1015', 'CCAFS LC-40'),\n (datetime.date(2015, 4, 27), 'No attempt', 'F9 v1.1 B1016', 'CCAFS LC-40'),\n (datetime.date(2015, 6, 28), 'Precluded (drone ship)', 'F9 v1.1 B1018', 'CCAFS LC-40'),\n (datetime.date(2015, 12, 22), 'Success (ground pad)', 'F9 FT B1019', 'CCAFS LC-40')]"
                    },
                    "execution_count": 72,
                    "metadata": {},
                    "output_type": "execute_result"
                }
            ],
            "source": "%sql  select Date, landing__outcome, booster_version, launch_site  from SPACEXTBL where year(Date) = 2015"
        },
        {
            "cell_type": "markdown",
            "metadata": {},
            "source": "### Task 10\n\n##### Rank the count of landing outcomes (such as Failure (drone ship) or Success (ground pad)) between the date 2010-06-04 and 2017-03-20, in descending order\n"
        },
        {
            "cell_type": "code",
            "execution_count": 73,
            "metadata": {},
            "outputs": [
                {
                    "name": "stdout",
                    "output_type": "stream",
                    "text": " * ibm_db_sa://bmr11134:***@ba99a9e6-d59e-4883-8fc0-d6a8c9f7a08f.c1ogj3sd0tgtu0lqde00.databases.appdomain.cloud:31321/BLUDB\nDone.\n"
                },
                {
                    "data": {
                        "text/html": "<table>\n    <tr>\n        <th>1</th>\n    </tr>\n    <tr>\n        <td>2020-12-06</td>\n    </tr>\n</table>",
                        "text/plain": "[(datetime.date(2020, 12, 6),)]"
                    },
                    "execution_count": 73,
                    "metadata": {},
                    "output_type": "execute_result"
                }
            ],
            "source": "\n%sql SELECT max(Date) from SPACEXTBL"
        },
        {
            "cell_type": "markdown",
            "metadata": {},
            "source": "### Reference Links\n\n*   <a href =\"https://cf-courses-data.s3.us.cloud-object-storage.appdomain.cloud/IBMDeveloperSkillsNetwork-DB0201EN-SkillsNetwork/labs/Labs_Coursera_V5/labs/Lab%20-%20String%20Patterns%20-%20Sorting%20-%20Grouping/instructional-labs.md.html?utm_medium=Exinfluencer&utm_source=Exinfluencer&utm_content=000026UJ&utm_term=10006555&utm_id=NA-SkillsNetwork-Channel-SkillsNetworkCoursesIBMDS0321ENSkillsNetwork26802033-2021-01-01&origin=www.coursera.org\">Hands-on Lab : String Patterns, Sorting and Grouping</a>\n\n*   <a  href=\"https://cf-courses-data.s3.us.cloud-object-storage.appdomain.cloud/IBMDeveloperSkillsNetwork-DB0201EN-SkillsNetwork/labs/Labs_Coursera_V5/labs/Lab%20-%20Built-in%20functions%20/Hands-on_Lab__Built-in_Functions.md.html?utm_medium=Exinfluencer&utm_source=Exinfluencer&utm_content=000026UJ&utm_term=10006555&utm_id=NA-SkillsNetwork-Channel-SkillsNetworkCoursesIBMDS0321ENSkillsNetwork26802033-2021-01-01&origin=www.coursera.org\">Hands-on Lab: Built-in functions</a>\n\n*   <a  href=\"https://cf-courses-data.s3.us.cloud-object-storage.appdomain.cloud/IBMDeveloperSkillsNetwork-DB0201EN-SkillsNetwork/labs/Labs_Coursera_V5/labs/Lab%20-%20Sub-queries%20and%20Nested%20SELECTs%20/instructional-labs.md.html?utm_medium=Exinfluencer&utm_source=Exinfluencer&utm_content=000026UJ&utm_term=10006555&utm_id=NA-SkillsNetwork-Channel-SkillsNetworkCoursesIBMDS0321ENSkillsNetwork26802033-2021-01-01&origin=www.coursera.org\">Hands-on Lab : Sub-queries and Nested SELECT Statements</a>\n\n*   <a href=\"https://cf-courses-data.s3.us.cloud-object-storage.appdomain.cloud/IBMDeveloperSkillsNetwork-DB0201EN-SkillsNetwork/labs/Module%205/DB0201EN-Week3-1-3-SQLmagic.ipynb?utm_medium=Exinfluencer&utm_source=Exinfluencer&utm_content=000026UJ&utm_term=10006555&utm_id=NA-SkillsNetwork-Channel-SkillsNetworkCoursesIBMDS0321ENSkillsNetwork26802033-2021-01-01\">Hands-on Tutorial: Accessing Databases with SQL magic</a>\n\n*   <a href= \"https://cf-courses-data.s3.us.cloud-object-storage.appdomain.cloud/IBMDeveloperSkillsNetwork-DB0201EN-SkillsNetwork/labs/Module%205/DB0201EN-Week3-1-4-Analyzing.ipynb?utm_medium=Exinfluencer&utm_source=Exinfluencer&utm_content=000026UJ&utm_term=10006555&utm_id=NA-SkillsNetwork-Channel-SkillsNetworkCoursesIBMDS0321ENSkillsNetwork26802033-2021-01-01\">Hands-on Lab: Analyzing a real World Data Set</a>\n"
        },
        {
            "cell_type": "markdown",
            "metadata": {},
            "source": "## Author(s)\n\n<h4> Lakshmi Holla </h4>\n"
        },
        {
            "cell_type": "markdown",
            "metadata": {},
            "source": "## Other Contributors\n\n<h4> Rav Ahuja </h4>\n"
        },
        {
            "cell_type": "markdown",
            "metadata": {},
            "source": "## Change log\n\n| Date       | Version | Changed by    | Change Description        |\n| ---------- | ------- | ------------- | ------------------------- |\n| 2021-08-24 | 0.3     | Lakshmi Holla | Added library update      |\n| 2021-07-09 | 0.2     | Lakshmi Holla | Changes made in magic sql |\n| 2021-05-20 | 0.1     | Lakshmi Holla | Created Initial Version   |\n"
        },
        {
            "cell_type": "markdown",
            "metadata": {},
            "source": "## <h3 align=\"center\"> \u00a9 IBM Corporation 2021. All rights reserved. <h3/>\n"
        }
    ],
    "metadata": {
        "kernelspec": {
            "display_name": "Python 3.8",
            "language": "python",
            "name": "python3"
        },
        "language_info": {
            "codemirror_mode": {
                "name": "ipython",
                "version": 3
            },
            "file_extension": ".py",
            "mimetype": "text/x-python",
            "name": "python",
            "nbconvert_exporter": "python",
            "pygments_lexer": "ipython3",
            "version": "3.8.10"
        }
    },
    "nbformat": 4,
    "nbformat_minor": 4
}